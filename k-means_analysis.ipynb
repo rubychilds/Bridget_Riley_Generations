{
 "metadata": {
  "name": "",
  "signature": "sha256:e3421280b4a176efef8778d133cff988f0fafc9a7bd8baa276eec56a10317b32"
 },
 "nbformat": 3,
 "nbformat_minor": 0,
 "worksheets": [
  {
   "cells": [
    {
     "cell_type": "code",
     "collapsed": false,
     "input": [
      "import numpy as np\n",
      "import cv2\n",
      "from pandas import DataFrame\n",
      "from __future__ import division"
     ],
     "language": "python",
     "metadata": {},
     "outputs": [],
     "prompt_number": 2
    },
    {
     "cell_type": "code",
     "collapsed": false,
     "input": [
      "def colour_percentage(img, centers):\n",
      "    cluster_dict = {tuple(c):0 for c in center}\n",
      "    for row in img:\n",
      "        for el in row:\n",
      "            cluster_dict[tuple(el)] += 1\n",
      "    total_pixels =  sum(cluster_dict.values()) \n",
      "    for key, val in cluster_dict.items():\n",
      "        cluster_dict[key] = (val / total_pixels)*100\n",
      "    return cluster_dict"
     ],
     "language": "python",
     "metadata": {},
     "outputs": [],
     "prompt_number": 156
    },
    {
     "cell_type": "code",
     "collapsed": false,
     "input": [
      "def save_dict_to_csv(dictionary, filename):\n",
      "    data = []\n",
      "    for key,val in dictionary.items():\n",
      "        data.append(list(key) + [val])\n",
      "    print data\n",
      "    DataFrame(data, columns=['r','g','b','colour_%']).to_csv('csv_colours/' + filename + '.csv')"
     ],
     "language": "python",
     "metadata": {},
     "outputs": []
    },
    {
     "cell_type": "code",
     "collapsed": false,
     "input": [
      "def perform_kmeans(z, img, K):\n",
      "    Z = np.float32(z) # requires np.float32 data type and single feature in single coloumn\n",
      "    criteria = (cv2.TERM_CRITERIA_EPS + cv2.TERM_CRITERIA_MAX_ITER, K, 1.0)\n",
      "    # EPS criteria is to stop algorithm iteration if epsilom is reached\n",
      "    # cv2 max iter - stops algorithm after number of iterations is reached\n",
      "    K = 15\n",
      "    ret, label ,center = cv2.kmeans( Z, K, criteria, 10, cv2.KMEANS_RANDOM_CENTERS)\n",
      "    center = np.uint8(center)\n",
      "    res = center[label.flatten()]\n",
      "    res2 = res.reshape((img.shape))\n",
      "    return res2, center"
     ],
     "language": "python",
     "metadata": {},
     "outputs": [],
     "prompt_number": 147
    },
    {
     "cell_type": "code",
     "collapsed": false,
     "input": [
      "def show_image(img):\n",
      "    cv2.imshow('current_image', img)\n",
      "    cv2.waitKey(0)\n",
      "    cv2.destroyAllWindows()"
     ],
     "language": "python",
     "metadata": {},
     "outputs": [],
     "prompt_number": 141
    },
    {
     "cell_type": "code",
     "collapsed": false,
     "input": [
      "def save_image(z, img, filename):\n",
      "    cv2.imwrite('k_means_outputs/' + filename + '.jpg', img)"
     ],
     "language": "python",
     "metadata": {},
     "outputs": [],
     "prompt_number": 142
    },
    {
     "cell_type": "code",
     "collapsed": false,
     "input": [
      "filename = '2'\n",
      "img = cv2.imread('pictures/' + filename + '.jpg')"
     ],
     "language": "python",
     "metadata": {},
     "outputs": [],
     "prompt_number": 148
    },
    {
     "cell_type": "code",
     "collapsed": false,
     "input": [
      "z = img.reshape((-1,3))"
     ],
     "language": "python",
     "metadata": {},
     "outputs": [],
     "prompt_number": 149
    },
    {
     "cell_type": "code",
     "collapsed": false,
     "input": [
      "res, center = perform_kmeans( z,img, 15)"
     ],
     "language": "python",
     "metadata": {},
     "outputs": [],
     "prompt_number": 154
    },
    {
     "cell_type": "code",
     "collapsed": false,
     "input": [
      "colour_clusters = colour_percentage(res, center)"
     ],
     "language": "python",
     "metadata": {},
     "outputs": [],
     "prompt_number": 157
    },
    {
     "cell_type": "code",
     "collapsed": false,
     "input": [
      "save_dict_to_csv(colour_clusters, filename)"
     ],
     "language": "python",
     "metadata": {},
     "outputs": [
      {
       "output_type": "stream",
       "stream": "stdout",
       "text": [
        "[[127, 116, 9, 6.2301933282789985], [62, 67, 176, 11.216309704321455], [11, 109, 44, 8.128222137983322], [22, 106, 177, 12.157695223654283], [144, 140, 217, 5.942238438210766], [152, 109, 77, 4.256444275966642], [82, 91, 203, 12.435178165276724], [76, 99, 10, 3.258339651250948], [159, 138, 37, 1.567048900682335], [46, 130, 203, 8.45531652767248], [114, 112, 193, 11.40774260803639], [20, 133, 85, 6.402388172858226], [115, 103, 90, 2.127511372251706], [87, 114, 147, 3.666745640636846], [177, 133, 102, 2.748625852918878]]\n"
       ]
      }
     ],
     "prompt_number": 158
    },
    {
     "cell_type": "code",
     "collapsed": false,
     "input": [
      "show_image(res)"
     ],
     "language": "python",
     "metadata": {},
     "outputs": [],
     "prompt_number": 160
    },
    {
     "cell_type": "code",
     "collapsed": false,
     "input": [
      "save_image(res, filename)"
     ],
     "language": "python",
     "metadata": {},
     "outputs": [],
     "prompt_number": 161
    }
   ],
   "metadata": {}
  }
 ]
}